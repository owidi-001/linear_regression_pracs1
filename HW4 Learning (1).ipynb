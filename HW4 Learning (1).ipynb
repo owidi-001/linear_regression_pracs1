{
 "cells": [
  {
   "cell_type": "markdown",
   "metadata": {},
   "source": [
    "## Assignment 4 - Learning\n",
    "### CS550 Fall 2021\n",
    "\n",
    "This assignment contains five problems. They are each worth 20 points.\n",
    "We will not use a grading script for this assignment, but the grading criteria is explained in the instructions.\n",
    "If you are having issues with inconsistent results, try setting seeds. If you find a seed that works for you, keep it in your code so we can see the results you expect us to see when we look at your code."
   ]
  },
  {
   "cell_type": "markdown",
   "metadata": {},
   "source": [
    "Student Name:\n",
    "<br>If you used pair programming..\n",
    "<br>Programming Partner:\n"
   ]
  },
  {
   "cell_type": "markdown",
   "metadata": {},
   "source": [
    "### Problem 1\n",
    "#### Linear Regression\n",
    "The purpose of this exercise is to implement a simple linear regression from scratch.\n",
    "Do not use a library to implement it.\n",
    "You will generate synthetic data using the linear equation y = 50x + 22\n",
    "The synthetic data will have some random variation to make the problem interesting. \n",
    "* Grading Criteria: The result of your regression should round to the orginal equation. It is not expected to be perfect."
   ]
  },
  {
   "cell_type": "markdown",
   "metadata": {},
   "source": [
    "### Part 1 - Generate Data\n",
    "1. Randomly select 20 X values between 0 and 100. Use a uniform distribution.\n",
    "2. Calculate Y values using 50x + 22 + RANDOM_VARIATION\n",
    "        2.1 The random variation is because we don't want it to be perfect\n",
    "        2.2 Use a normal distribution with values between -1 and 1 "
   ]
  },
  {
   "cell_type": "code",
   "execution_count": 9,
   "metadata": {},
   "outputs": [
    {
     "name": "stdout",
     "output_type": "stream",
     "text": [
      "[93, 78, 5, 47, 44, 89, 59, 82, 17, 14, 7, 43, 97, 19, 22, 2, 23, 1, 46, 50]\n"
     ]
    }
   ],
   "source": [
    "### Your code here\n",
    "import random \n",
    "\n",
    "x_values = random.sample(range(0,100),20)\n",
    "print(x_values)"
   ]
  },
  {
   "cell_type": "markdown",
   "metadata": {},
   "source": [
    "### Part 2 - Calculate Regression\n",
    "Now that you have the data, calcualate the regression. Show your value for slope and intercept. Do not use an libraries to do it for you.\n",
    "<BR>You have some random variance, so you probably won't get exactly y=50x+22 , but it should round to it."
   ]
  },
  {
   "cell_type": "code",
   "execution_count": 2,
   "metadata": {},
   "outputs": [],
   "source": [
    "### Your code here"
   ]
  },
  {
   "cell_type": "markdown",
   "metadata": {},
   "source": [
    "### Part 3 - Visualization\n",
    "Create a visualization\n",
    "* Include a scatter plot of the data points\n",
    "* Include the real line for y = 50x +22 in blue\n",
    "* Include the regression line in red (they may overlap, that is ok)"
   ]
  },
  {
   "cell_type": "code",
   "execution_count": 3,
   "metadata": {},
   "outputs": [],
   "source": [
    "### Your code here"
   ]
  },
  {
   "cell_type": "markdown",
   "metadata": {},
   "source": [
    "### Part 4 - Create an outlier\n",
    "Double the Y value for your 10s data point.\n",
    "Run your regression function again and observe how the equation to the line changes."
   ]
  },
  {
   "cell_type": "code",
   "execution_count": 4,
   "metadata": {},
   "outputs": [],
   "source": [
    "### Your code here"
   ]
  },
  {
   "cell_type": "markdown",
   "metadata": {},
   "source": [
    "Provide some explanation about what you saw and how to fix it. If it didn't affect anything, provide an explanation on why you think it didn't\n"
   ]
  },
  {
   "cell_type": "markdown",
   "metadata": {},
   "source": [
    "## Problem 2 - Decision Trees\n",
    "* Pull the data from https://archive.ics.uci.edu/ml/datasets/Credit+Approval\n",
    "* Create a decision tree to determine if credit should be extended based on a test case.\n",
    "* Grading criteria: \n",
    "    * Demonstrate that you evaluated the data set and applied aduquate preprocessing to the data\n",
    "    * Make sure you comment you code and the cleaning process so we can follow your logic in grading\n",
    "    * Provide a confusion matrix for your results. Text based is fine.\n",
    "    * Provide a visualization with explanation that demonstrates logical evaluation of the model\n",
    "* Actual accuracy can depend on how you split the training and test data and other random variations\n",
    "    * If you get below 70% accuracy, there may be a problem with your model\n",
    "    "
   ]
  },
  {
   "cell_type": "code",
   "execution_count": 5,
   "metadata": {},
   "outputs": [],
   "source": [
    "### You code here\n",
    "\n",
    "# Get the data\n",
    "\n",
    "# Preprocess the data\n",
    "\n",
    "# Make the model\n",
    "\n",
    "# Test the model\n",
    "\n",
    "# Provide a visualization of the model\n"
   ]
  },
  {
   "cell_type": "markdown",
   "metadata": {},
   "source": [
    "Put the explanation of your model here:\n"
   ]
  },
  {
   "cell_type": "markdown",
   "metadata": {},
   "source": [
    "### Problem 3 - Artificial Neural Networks\n",
    "* Use the MNIST dataset to classify the type of apparel using an artificial nueral network.\n",
    "* https://www.kaggle.com/zalando-research/fashionmnist\n",
    "* You may use the library of your choosing\n",
    "* Grading criteria: Your results on the test data should exceed 0.80 accuracy and you have some explaination about the model.\n"
   ]
  },
  {
   "cell_type": "code",
   "execution_count": 6,
   "metadata": {},
   "outputs": [],
   "source": [
    "### You code here"
   ]
  },
  {
   "cell_type": "markdown",
   "metadata": {},
   "source": [
    "Provide an explanation on how you picked the initial parameters:\n"
   ]
  },
  {
   "cell_type": "markdown",
   "metadata": {},
   "source": [
    "### Problem 4 - K-means \n",
    "* Use the Ecoli dataset at https://archive.ics.uci.edu/ml/datasets/Ecoli\n",
    "* Ignore the label and create clusters using k values between 4 and 6.\n",
    "* Pick the best k value and explain why you picked it\n",
    "* Show any calculations you used to pick the best cluster\n",
    "* Create two visualization\n",
    "    * One colors the nodes with the cluster membership\n",
    "    * The other colors the nodes based on the actual label\n",
    "* Grading criteria: Aduately describe how to pick the best cluster and successful create the required visualizations"
   ]
  },
  {
   "cell_type": "code",
   "execution_count": 7,
   "metadata": {},
   "outputs": [],
   "source": [
    "### Your code here"
   ]
  },
  {
   "cell_type": "markdown",
   "metadata": {},
   "source": [
    "Provide an explanation of your model:\n"
   ]
  },
  {
   "cell_type": "markdown",
   "metadata": {},
   "source": [
    "### Problem 5 - Support Vector Machines\n",
    "* Use the Iris trainging set\n",
    "* Use some method to reduce the dimensionality to two dimensions\n",
    "    * We are mostly doing this so we can visualize the results\n",
    "* Split the data set into 80% training and 20% testing\n",
    "* Create an SVM to model the data\n",
    "* Create a visualization that shows the line and the margins\n",
    "* Creat anonther visualization that show the decision surface\n",
    "    * Do not include the test data points\n",
    "    * Randomly select 10 test points and add them to the visualization. Color them based on their label\n",
    "    * Are the random test points consistently on the correct side of the line?\n",
    "* Predict the label for ALL of the test data \n",
    "    * Show a confusion matrix\n",
    "    * Calculate the F1 measure\n",
    "* Grading criteria: \n",
    "    * SVM graphically appears to correctly to use a reasonable line\n",
    "    * F1 measure is consistent with what we showed in class"
   ]
  },
  {
   "cell_type": "code",
   "execution_count": 8,
   "metadata": {},
   "outputs": [],
   "source": [
    "### You code here"
   ]
  },
  {
   "cell_type": "markdown",
   "metadata": {},
   "source": [
    "Explanation of your model:\n"
   ]
  },
  {
   "cell_type": "code",
   "execution_count": null,
   "metadata": {},
   "outputs": [],
   "source": []
  }
 ],
 "metadata": {
  "celltoolbar": "Edit Metadata",
  "kernelspec": {
   "display_name": "Python 3",
   "language": "python",
   "name": "python3"
  },
  "language_info": {
   "codemirror_mode": {
    "name": "ipython",
    "version": 3
   },
   "file_extension": ".py",
   "mimetype": "text/x-python",
   "name": "python",
   "nbconvert_exporter": "python",
   "pygments_lexer": "ipython3",
   "version": "3.8.8"
  }
 },
 "nbformat": 4,
 "nbformat_minor": 4
}
